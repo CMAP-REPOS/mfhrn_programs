{
 "cells": [
  {
   "cell_type": "code",
   "execution_count": 2,
   "id": "5f2f586f",
   "metadata": {},
   "outputs": [],
   "source": [
    "# IMPORT ------------------------------------------------------------------------------------------\n",
    "\n",
    "import os\n",
    "import arcpy \n",
    "import numpy as np\n",
    "import pandas as pd\n",
    "\n",
    "from collections import Counter\n",
    "\n",
    "pd.options.mode.chained_assignment = None  # default='warn'\n",
    "\n",
    "# DEFINE PATHS ------------------------------------------------------------------------------------\n",
    "\n",
    "base_path = os.path.abspath(\"..\")\n",
    "in_folder = os.path.join(base_path, \"input\")\n",
    "in_MHN_GDB = os.path.join(in_folder, \"MHN.gdb\")\n",
    "\n",
    "arcpy.env.workspace = in_MHN_GDB"
   ]
  },
  {
   "cell_type": "markdown",
   "id": "84f79b80",
   "metadata": {},
   "source": [
    "## Highway"
   ]
  },
  {
   "cell_type": "markdown",
   "id": "00c9987f",
   "metadata": {},
   "source": [
    "### Check if highway network is a multigraph"
   ]
  },
  {
   "cell_type": "code",
   "execution_count": null,
   "id": "8ed4fa95",
   "metadata": {},
   "outputs": [],
   "source": [
    "fc = \"hwynet/hwynet_arc\"\n",
    "fields = [f.name for f in arcpy.ListFields(fc) if f.type!=\"Geometry\"] \n",
    "link_df = pd.DataFrame(data=arcpy.da.SearchCursor(fc, fields), columns=fields)\n",
    "\n",
    "link_df[\"AB\"] = link_df[\"ANODE\"].astype(\"string\") + \"-\" + link_df[\"BNODE\"].astype(\"string\")\n",
    "link_df = link_df[[\"AB\", \"ABB\", \"ANODE\", \"BNODE\", \"DIRECTIONS\", \"ROADNAME\"]]\n",
    "# link_df.AB.value_counts()\n",
    "link_df_rev = link_df.copy()\n",
    "link_df_rev[\"ANODE\"] = link_df[\"BNODE\"]\n",
    "link_df_rev[\"BNODE\"] = link_df[\"ANODE\"]\n",
    "link_df_rev[\"AB\"] = link_df_rev[\"ANODE\"].astype(\"string\") + \"-\" + link_df_rev[\"BNODE\"].astype(\"string\") \n",
    "\n",
    "# ah nuts. It is a multigraph. \n",
    "\n",
    "# pd.merge(link_df, link_df_rev, how = \"inner\", on = \"AB\")"
   ]
  },
  {
   "cell_type": "markdown",
   "id": "fee10eec",
   "metadata": {},
   "source": [
    "### Check for skeleton links which are later modified"
   ]
  },
  {
   "cell_type": "code",
   "execution_count": 75,
   "id": "fa4cf6d4",
   "metadata": {},
   "outputs": [],
   "source": [
    "fc = \"hwyproj_coding\"\n",
    "fields = [f.name for f in arcpy.ListFields(fc) if f.type!=\"Geometry\"] \n",
    "hwyproj_df = pd.DataFrame(data=arcpy.da.SearchCursor(fc, fields), columns=fields)\n",
    "\n",
    "fc = \"hwyproj\"\n",
    "fields = [f.name for f in arcpy.ListFields(fc) if f.type!=\"Geometry\"] \n",
    "year_df = pd.DataFrame(data=arcpy.da.SearchCursor(fc, fields), columns=fields)\n",
    "\n",
    "hwyproj_df = pd.merge(hwyproj_df, year_df, how = \"left\", on = \"TIPID\")"
   ]
  },
  {
   "cell_type": "code",
   "execution_count": 85,
   "id": "6f618700",
   "metadata": {},
   "outputs": [
    {
     "data": {
      "text/plain": [
       "27"
      ]
     },
     "execution_count": 85,
     "metadata": {},
     "output_type": "execute_result"
    }
   ],
   "source": [
    "skeleton = hwyproj_df[(hwyproj_df.ABB.str.endswith(\"0\")) & (hwyproj_df.COMPLETION_YEAR != 9999) & (hwyproj_df.TOD == \"0\")]\n",
    "skeleton_abbs = skeleton.ABB.value_counts().sort_values()\n",
    "\n",
    "len(skeleton_abbs[skeleton_abbs >= 2])"
   ]
  },
  {
   "cell_type": "code",
   "execution_count": null,
   "id": "3fbee1ac",
   "metadata": {},
   "outputs": [],
   "source": []
  }
 ],
 "metadata": {
  "kernelspec": {
   "display_name": "Python 3",
   "language": "python",
   "name": "python3"
  },
  "language_info": {
   "codemirror_mode": {
    "name": "ipython",
    "version": 3
   },
   "file_extension": ".py",
   "mimetype": "text/x-python",
   "name": "python",
   "nbconvert_exporter": "python",
   "pygments_lexer": "ipython3",
   "version": "3.11.11"
  }
 },
 "nbformat": 4,
 "nbformat_minor": 5
}
